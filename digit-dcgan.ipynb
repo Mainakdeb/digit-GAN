{
  "nbformat": 4,
  "nbformat_minor": 0,
  "metadata": {
    "colab": {
      "name": "Untitled0.ipynb",
      "provenance": [],
      "collapsed_sections": [],
      "authorship_tag": "ABX9TyMG0xDcaKC/VV+d7tQBeApl",
      "include_colab_link": true
    },
    "kernelspec": {
      "name": "python3",
      "display_name": "Python 3"
    },
    "accelerator": "GPU"
  },
  "cells": [
    {
      "cell_type": "markdown",
      "metadata": {
        "id": "view-in-github",
        "colab_type": "text"
      },
      "source": [
        "<a href=\"https://colab.research.google.com/github/Mainakdeb/digit-GAN/blob/main/digit-dcgan.ipynb\" target=\"_parent\"><img src=\"https://colab.research.google.com/assets/colab-badge.svg\" alt=\"Open In Colab\"/></a>"
      ]
    },
    {
      "cell_type": "code",
      "metadata": {
        "id": "u3DrlDKFZaFo"
      },
      "source": [
        "import torch\n",
        "import torch.nn as nn\n",
        "\n",
        "class Discriminator(nn.Module):\n",
        "  def __init__(self, channels_img, features_d):\n",
        "    super(Discriminator, self).__init__()\n",
        "    self.disc = nn.Sequential(\n",
        "        #N x C x H x W\n",
        "        nn.Conv2d(\n",
        "            channels_img, features_d, kernel_size=4, stride=2, padding=1\n",
        "        ),\n",
        "        nn.LeakyReLU(0.2), #no batch_norm here\n",
        "        self._block(features_d, features_d*2, 4, 2, 1),\n",
        "        self._block(features_d*2, features_d*4, 4, 2, 1),\n",
        "        self._block(features_d*4, features_d*8, 4, 2, 1),\n",
        "        nn.Conv2d(features_d*8, 1, kernel_size=4, stride=2, padding=0),\n",
        "        nn.Sigmoid(),\n",
        "    )\n",
        "\n",
        "  def _block(self, in_channels, out_channels, kernel_size, stride, padding):\n",
        "    return nn.Sequential(\n",
        "        nn.Conv2d(\n",
        "            in_channels,\n",
        "            out_channels,\n",
        "            kernel_size,\n",
        "            stride,\n",
        "            padding,\n",
        "            bias=False\n",
        "        ),\n",
        "        nn.BatchNorm2d(out_channels),\n",
        "        nn.LeakyReLU(0.2), #params from paper\n",
        "    )\n",
        "\n",
        "  def forward(self,x):\n",
        "    return self.disc(x)\n",
        "\n"
      ],
      "execution_count": 1,
      "outputs": []
    },
    {
      "cell_type": "code",
      "metadata": {
        "id": "N8l-nZuqbaQZ"
      },
      "source": [
        "class Generator(nn.Module):\n",
        "  def __init__(self, channels_noise, channels_img, features_g):\n",
        "    super(Generator, self).__init__()\n",
        "    self.net = nn.Sequential(\n",
        "        self._block(channels_noise, features_g * 16, 4, 1, 0),  \n",
        "        self._block(features_g * 16, features_g * 8, 4, 2, 1),  \n",
        "        self._block(features_g * 8, features_g * 4, 4, 2, 1),  # img: 16x16\n",
        "        self._block(features_g * 4, features_g * 2, 4, 2, 1),  # img: 32x32\n",
        "        nn.ConvTranspose2d(\n",
        "            features_g * 2, channels_img, kernel_size=4, stride=2, padding=1\n",
        "        ),\n",
        "        # Output: N x channels_img x 64 x 64\n",
        "        nn.Tanh(),\n",
        "    )\n",
        "\n",
        "  def _block(self, in_channels, out_channels, kernel_size, stride, padding):\n",
        "    return nn.Sequential(\n",
        "        nn.ConvTranspose2d(\n",
        "            in_channels,\n",
        "            out_channels,\n",
        "            kernel_size,\n",
        "            stride,\n",
        "            padding,\n",
        "            bias=False,\n",
        "        ),\n",
        "        #nn.BatchNorm2d(out_channels),\n",
        "        nn.ReLU(),\n",
        "    )\n",
        "\n",
        "  def forward(self, x):\n",
        "    return self.net(x)"
      ],
      "execution_count": 2,
      "outputs": []
    },
    {
      "cell_type": "code",
      "metadata": {
        "id": "q6752CJde2v6"
      },
      "source": [
        "def initialise_weights(model):\n",
        "  #like the paper, mean=0, sd=0.02\n",
        "  for m in model.modules():\n",
        "    if isinstance(m, (nn.Conv2d, nn.ConvTranspose2d, nn.BatchNorm2d)):\n",
        "      nn.init.normal_(m.weight.data, 0.0, 0.02)"
      ],
      "execution_count": 3,
      "outputs": []
    },
    {
      "cell_type": "code",
      "metadata": {
        "id": "Td-KdWNSfq3K",
        "outputId": "613a3b71-d233-4e8a-ada4-245e71c95531",
        "colab": {
          "base_uri": "https://localhost:8080/"
        }
      },
      "source": [
        "def test():\n",
        "  N, in_channels, H, W = 8, 3, 64, 64\n",
        "  z_dim=100\n",
        "  x = torch.randn((N, in_channels, H, W))\n",
        "  disc = Discriminator(in_channels, 8)\n",
        "  initialise_weights(disc)\n",
        "  assert disc(x).shape == (N,1,1,1)\n",
        "  gen = Generator(z_dim, in_channels, 8)\n",
        "  initialise_weights(gen)\n",
        "  z = torch.randn(N, z_dim, 1, 1)\n",
        "  assert gen(z).shape == (N, in_channels, H, W)\n",
        "  print(\"********works*******\")\n",
        "test() "
      ],
      "execution_count": 4,
      "outputs": [
        {
          "output_type": "stream",
          "text": [
            "********works*******\n"
          ],
          "name": "stdout"
        }
      ]
    },
    {
      "cell_type": "code",
      "metadata": {
        "id": "uWEWOoQbgjuW"
      },
      "source": [
        "import torch.optim as optim\n",
        "import torchvision\n",
        "import torchvision.datasets as datasets\n",
        "import torchvision.transforms as transforms\n",
        "from torch.utils.data import DataLoader\n",
        "from torch.utils.tensorboard import SummaryWriter\n",
        "\n",
        "device = torch.device(\"cuda\" if torch.cuda.is_available() else \"cpu\")\n",
        "LEARNING_RATE=2e-4\n",
        "BATCH_SIZE = 128\n",
        "IMAGE_SIZE = 64\n",
        "CHANNELS_IMG=1 #mnist bw images\n",
        "NOISE_DIM = 100\n",
        "Z_DIM=100\n",
        "NUM_EPOCHS=5\n",
        "FEATURES_DISC=64\n",
        "FEATURES_GEN=64"
      ],
      "execution_count": 4,
      "outputs": []
    },
    {
      "cell_type": "code",
      "metadata": {
        "id": "6DjMWRqNhP2v"
      },
      "source": [
        "transforms = transforms.Compose(\n",
        "    [\n",
        "     transforms.Resize(IMAGE_SIZE),\n",
        "     transforms.ToTensor(),\n",
        "     transforms.Normalize([0.5 for _ in range(CHANNELS_IMG)], \n",
        "                         [0.5 for _ in range(CHANNELS_IMG)])\n",
        "    ]\n",
        ")"
      ],
      "execution_count": null,
      "outputs": []
    }
  ]
}