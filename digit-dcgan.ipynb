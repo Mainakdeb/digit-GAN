{
  "nbformat": 4,
  "nbformat_minor": 0,
  "metadata": {
    "colab": {
      "name": "torch-dcgan.ipynb",
      "provenance": [],
      "collapsed_sections": [],
      "authorship_tag": "ABX9TyMZis/yd0n2+U6r/bITSueN",
      "include_colab_link": true
    },
    "kernelspec": {
      "name": "python3",
      "display_name": "Python 3"
    },
    "accelerator": "GPU",
    "widgets": {
      "application/vnd.jupyter.widget-state+json": {
        "ab4aa3ad2d154ec5a1947fc30b47fe4f": {
          "model_module": "@jupyter-widgets/controls",
          "model_name": "HBoxModel",
          "state": {
            "_view_name": "HBoxView",
            "_dom_classes": [],
            "_model_name": "HBoxModel",
            "_view_module": "@jupyter-widgets/controls",
            "_model_module_version": "1.5.0",
            "_view_count": null,
            "_view_module_version": "1.5.0",
            "box_style": "",
            "layout": "IPY_MODEL_455076a627fa4e4388511ada3529b0e9",
            "_model_module": "@jupyter-widgets/controls",
            "children": [
              "IPY_MODEL_a3f71177dfc642bca55a56fffca44e9f",
              "IPY_MODEL_ff8a630e34aa4e3db7734f9d3a235c01"
            ]
          }
        },
        "455076a627fa4e4388511ada3529b0e9": {
          "model_module": "@jupyter-widgets/base",
          "model_name": "LayoutModel",
          "state": {
            "_view_name": "LayoutView",
            "grid_template_rows": null,
            "right": null,
            "justify_content": null,
            "_view_module": "@jupyter-widgets/base",
            "overflow": null,
            "_model_module_version": "1.2.0",
            "_view_count": null,
            "flex_flow": null,
            "width": null,
            "min_width": null,
            "border": null,
            "align_items": null,
            "bottom": null,
            "_model_module": "@jupyter-widgets/base",
            "top": null,
            "grid_column": null,
            "overflow_y": null,
            "overflow_x": null,
            "grid_auto_flow": null,
            "grid_area": null,
            "grid_template_columns": null,
            "flex": null,
            "_model_name": "LayoutModel",
            "justify_items": null,
            "grid_row": null,
            "max_height": null,
            "align_content": null,
            "visibility": null,
            "align_self": null,
            "height": null,
            "min_height": null,
            "padding": null,
            "grid_auto_rows": null,
            "grid_gap": null,
            "max_width": null,
            "order": null,
            "_view_module_version": "1.2.0",
            "grid_template_areas": null,
            "object_position": null,
            "object_fit": null,
            "grid_auto_columns": null,
            "margin": null,
            "display": null,
            "left": null
          }
        },
        "a3f71177dfc642bca55a56fffca44e9f": {
          "model_module": "@jupyter-widgets/controls",
          "model_name": "FloatProgressModel",
          "state": {
            "_view_name": "ProgressView",
            "style": "IPY_MODEL_33aad5ae85284531870c84b7d711dc86",
            "_dom_classes": [],
            "description": "",
            "_model_name": "FloatProgressModel",
            "bar_style": "info",
            "max": 1,
            "_view_module": "@jupyter-widgets/controls",
            "_model_module_version": "1.5.0",
            "value": 1,
            "_view_count": null,
            "_view_module_version": "1.5.0",
            "orientation": "horizontal",
            "min": 0,
            "description_tooltip": null,
            "_model_module": "@jupyter-widgets/controls",
            "layout": "IPY_MODEL_4633e5051bf341788755919ed372c343"
          }
        },
        "ff8a630e34aa4e3db7734f9d3a235c01": {
          "model_module": "@jupyter-widgets/controls",
          "model_name": "HTMLModel",
          "state": {
            "_view_name": "HTMLView",
            "style": "IPY_MODEL_c5f98e2f36e947028bab6d50a750278a",
            "_dom_classes": [],
            "description": "",
            "_model_name": "HTMLModel",
            "placeholder": "​",
            "_view_module": "@jupyter-widgets/controls",
            "_model_module_version": "1.5.0",
            "value": " 9920512/? [00:20&lt;00:00, 1505709.83it/s]",
            "_view_count": null,
            "_view_module_version": "1.5.0",
            "description_tooltip": null,
            "_model_module": "@jupyter-widgets/controls",
            "layout": "IPY_MODEL_1a30f16fd02340f694770f11d78c36e6"
          }
        },
        "33aad5ae85284531870c84b7d711dc86": {
          "model_module": "@jupyter-widgets/controls",
          "model_name": "ProgressStyleModel",
          "state": {
            "_view_name": "StyleView",
            "_model_name": "ProgressStyleModel",
            "description_width": "initial",
            "_view_module": "@jupyter-widgets/base",
            "_model_module_version": "1.5.0",
            "_view_count": null,
            "_view_module_version": "1.2.0",
            "bar_color": null,
            "_model_module": "@jupyter-widgets/controls"
          }
        },
        "4633e5051bf341788755919ed372c343": {
          "model_module": "@jupyter-widgets/base",
          "model_name": "LayoutModel",
          "state": {
            "_view_name": "LayoutView",
            "grid_template_rows": null,
            "right": null,
            "justify_content": null,
            "_view_module": "@jupyter-widgets/base",
            "overflow": null,
            "_model_module_version": "1.2.0",
            "_view_count": null,
            "flex_flow": null,
            "width": null,
            "min_width": null,
            "border": null,
            "align_items": null,
            "bottom": null,
            "_model_module": "@jupyter-widgets/base",
            "top": null,
            "grid_column": null,
            "overflow_y": null,
            "overflow_x": null,
            "grid_auto_flow": null,
            "grid_area": null,
            "grid_template_columns": null,
            "flex": null,
            "_model_name": "LayoutModel",
            "justify_items": null,
            "grid_row": null,
            "max_height": null,
            "align_content": null,
            "visibility": null,
            "align_self": null,
            "height": null,
            "min_height": null,
            "padding": null,
            "grid_auto_rows": null,
            "grid_gap": null,
            "max_width": null,
            "order": null,
            "_view_module_version": "1.2.0",
            "grid_template_areas": null,
            "object_position": null,
            "object_fit": null,
            "grid_auto_columns": null,
            "margin": null,
            "display": null,
            "left": null
          }
        },
        "c5f98e2f36e947028bab6d50a750278a": {
          "model_module": "@jupyter-widgets/controls",
          "model_name": "DescriptionStyleModel",
          "state": {
            "_view_name": "StyleView",
            "_model_name": "DescriptionStyleModel",
            "description_width": "",
            "_view_module": "@jupyter-widgets/base",
            "_model_module_version": "1.5.0",
            "_view_count": null,
            "_view_module_version": "1.2.0",
            "_model_module": "@jupyter-widgets/controls"
          }
        },
        "1a30f16fd02340f694770f11d78c36e6": {
          "model_module": "@jupyter-widgets/base",
          "model_name": "LayoutModel",
          "state": {
            "_view_name": "LayoutView",
            "grid_template_rows": null,
            "right": null,
            "justify_content": null,
            "_view_module": "@jupyter-widgets/base",
            "overflow": null,
            "_model_module_version": "1.2.0",
            "_view_count": null,
            "flex_flow": null,
            "width": null,
            "min_width": null,
            "border": null,
            "align_items": null,
            "bottom": null,
            "_model_module": "@jupyter-widgets/base",
            "top": null,
            "grid_column": null,
            "overflow_y": null,
            "overflow_x": null,
            "grid_auto_flow": null,
            "grid_area": null,
            "grid_template_columns": null,
            "flex": null,
            "_model_name": "LayoutModel",
            "justify_items": null,
            "grid_row": null,
            "max_height": null,
            "align_content": null,
            "visibility": null,
            "align_self": null,
            "height": null,
            "min_height": null,
            "padding": null,
            "grid_auto_rows": null,
            "grid_gap": null,
            "max_width": null,
            "order": null,
            "_view_module_version": "1.2.0",
            "grid_template_areas": null,
            "object_position": null,
            "object_fit": null,
            "grid_auto_columns": null,
            "margin": null,
            "display": null,
            "left": null
          }
        },
        "a40c317401dd41f3a77c03912a4d37b6": {
          "model_module": "@jupyter-widgets/controls",
          "model_name": "HBoxModel",
          "state": {
            "_view_name": "HBoxView",
            "_dom_classes": [],
            "_model_name": "HBoxModel",
            "_view_module": "@jupyter-widgets/controls",
            "_model_module_version": "1.5.0",
            "_view_count": null,
            "_view_module_version": "1.5.0",
            "box_style": "",
            "layout": "IPY_MODEL_262d759754b0425ca801f0dc839376a1",
            "_model_module": "@jupyter-widgets/controls",
            "children": [
              "IPY_MODEL_0abfb1bd31184301a087eff3b2ba38df",
              "IPY_MODEL_3eed2b69f5b74c028bfb12e6c020d6fc"
            ]
          }
        },
        "262d759754b0425ca801f0dc839376a1": {
          "model_module": "@jupyter-widgets/base",
          "model_name": "LayoutModel",
          "state": {
            "_view_name": "LayoutView",
            "grid_template_rows": null,
            "right": null,
            "justify_content": null,
            "_view_module": "@jupyter-widgets/base",
            "overflow": null,
            "_model_module_version": "1.2.0",
            "_view_count": null,
            "flex_flow": null,
            "width": null,
            "min_width": null,
            "border": null,
            "align_items": null,
            "bottom": null,
            "_model_module": "@jupyter-widgets/base",
            "top": null,
            "grid_column": null,
            "overflow_y": null,
            "overflow_x": null,
            "grid_auto_flow": null,
            "grid_area": null,
            "grid_template_columns": null,
            "flex": null,
            "_model_name": "LayoutModel",
            "justify_items": null,
            "grid_row": null,
            "max_height": null,
            "align_content": null,
            "visibility": null,
            "align_self": null,
            "height": null,
            "min_height": null,
            "padding": null,
            "grid_auto_rows": null,
            "grid_gap": null,
            "max_width": null,
            "order": null,
            "_view_module_version": "1.2.0",
            "grid_template_areas": null,
            "object_position": null,
            "object_fit": null,
            "grid_auto_columns": null,
            "margin": null,
            "display": null,
            "left": null
          }
        },
        "0abfb1bd31184301a087eff3b2ba38df": {
          "model_module": "@jupyter-widgets/controls",
          "model_name": "FloatProgressModel",
          "state": {
            "_view_name": "ProgressView",
            "style": "IPY_MODEL_db911fe4a6b84d019ae9d1655f145706",
            "_dom_classes": [],
            "description": "",
            "_model_name": "FloatProgressModel",
            "bar_style": "success",
            "max": 1,
            "_view_module": "@jupyter-widgets/controls",
            "_model_module_version": "1.5.0",
            "value": 1,
            "_view_count": null,
            "_view_module_version": "1.5.0",
            "orientation": "horizontal",
            "min": 0,
            "description_tooltip": null,
            "_model_module": "@jupyter-widgets/controls",
            "layout": "IPY_MODEL_d251d116a1d4483492754925606ae57d"
          }
        },
        "3eed2b69f5b74c028bfb12e6c020d6fc": {
          "model_module": "@jupyter-widgets/controls",
          "model_name": "HTMLModel",
          "state": {
            "_view_name": "HTMLView",
            "style": "IPY_MODEL_e853372a30d04b4ea4d6673e82091fc0",
            "_dom_classes": [],
            "description": "",
            "_model_name": "HTMLModel",
            "placeholder": "​",
            "_view_module": "@jupyter-widgets/controls",
            "_model_module_version": "1.5.0",
            "value": " 32768/? [00:03&lt;00:00, 9962.04it/s]",
            "_view_count": null,
            "_view_module_version": "1.5.0",
            "description_tooltip": null,
            "_model_module": "@jupyter-widgets/controls",
            "layout": "IPY_MODEL_9168d5a5aa5f45c89dd9cc89946642f0"
          }
        },
        "db911fe4a6b84d019ae9d1655f145706": {
          "model_module": "@jupyter-widgets/controls",
          "model_name": "ProgressStyleModel",
          "state": {
            "_view_name": "StyleView",
            "_model_name": "ProgressStyleModel",
            "description_width": "initial",
            "_view_module": "@jupyter-widgets/base",
            "_model_module_version": "1.5.0",
            "_view_count": null,
            "_view_module_version": "1.2.0",
            "bar_color": null,
            "_model_module": "@jupyter-widgets/controls"
          }
        },
        "d251d116a1d4483492754925606ae57d": {
          "model_module": "@jupyter-widgets/base",
          "model_name": "LayoutModel",
          "state": {
            "_view_name": "LayoutView",
            "grid_template_rows": null,
            "right": null,
            "justify_content": null,
            "_view_module": "@jupyter-widgets/base",
            "overflow": null,
            "_model_module_version": "1.2.0",
            "_view_count": null,
            "flex_flow": null,
            "width": null,
            "min_width": null,
            "border": null,
            "align_items": null,
            "bottom": null,
            "_model_module": "@jupyter-widgets/base",
            "top": null,
            "grid_column": null,
            "overflow_y": null,
            "overflow_x": null,
            "grid_auto_flow": null,
            "grid_area": null,
            "grid_template_columns": null,
            "flex": null,
            "_model_name": "LayoutModel",
            "justify_items": null,
            "grid_row": null,
            "max_height": null,
            "align_content": null,
            "visibility": null,
            "align_self": null,
            "height": null,
            "min_height": null,
            "padding": null,
            "grid_auto_rows": null,
            "grid_gap": null,
            "max_width": null,
            "order": null,
            "_view_module_version": "1.2.0",
            "grid_template_areas": null,
            "object_position": null,
            "object_fit": null,
            "grid_auto_columns": null,
            "margin": null,
            "display": null,
            "left": null
          }
        },
        "e853372a30d04b4ea4d6673e82091fc0": {
          "model_module": "@jupyter-widgets/controls",
          "model_name": "DescriptionStyleModel",
          "state": {
            "_view_name": "StyleView",
            "_model_name": "DescriptionStyleModel",
            "description_width": "",
            "_view_module": "@jupyter-widgets/base",
            "_model_module_version": "1.5.0",
            "_view_count": null,
            "_view_module_version": "1.2.0",
            "_model_module": "@jupyter-widgets/controls"
          }
        },
        "9168d5a5aa5f45c89dd9cc89946642f0": {
          "model_module": "@jupyter-widgets/base",
          "model_name": "LayoutModel",
          "state": {
            "_view_name": "LayoutView",
            "grid_template_rows": null,
            "right": null,
            "justify_content": null,
            "_view_module": "@jupyter-widgets/base",
            "overflow": null,
            "_model_module_version": "1.2.0",
            "_view_count": null,
            "flex_flow": null,
            "width": null,
            "min_width": null,
            "border": null,
            "align_items": null,
            "bottom": null,
            "_model_module": "@jupyter-widgets/base",
            "top": null,
            "grid_column": null,
            "overflow_y": null,
            "overflow_x": null,
            "grid_auto_flow": null,
            "grid_area": null,
            "grid_template_columns": null,
            "flex": null,
            "_model_name": "LayoutModel",
            "justify_items": null,
            "grid_row": null,
            "max_height": null,
            "align_content": null,
            "visibility": null,
            "align_self": null,
            "height": null,
            "min_height": null,
            "padding": null,
            "grid_auto_rows": null,
            "grid_gap": null,
            "max_width": null,
            "order": null,
            "_view_module_version": "1.2.0",
            "grid_template_areas": null,
            "object_position": null,
            "object_fit": null,
            "grid_auto_columns": null,
            "margin": null,
            "display": null,
            "left": null
          }
        },
        "dea725e2845d4fb2948608dabb32410d": {
          "model_module": "@jupyter-widgets/controls",
          "model_name": "HBoxModel",
          "state": {
            "_view_name": "HBoxView",
            "_dom_classes": [],
            "_model_name": "HBoxModel",
            "_view_module": "@jupyter-widgets/controls",
            "_model_module_version": "1.5.0",
            "_view_count": null,
            "_view_module_version": "1.5.0",
            "box_style": "",
            "layout": "IPY_MODEL_6e903feca6634449a6799d60f600cd48",
            "_model_module": "@jupyter-widgets/controls",
            "children": [
              "IPY_MODEL_d6a867e040174d9299840702a61a6ef4",
              "IPY_MODEL_92c516e6775048119e2b54452db718f5"
            ]
          }
        },
        "6e903feca6634449a6799d60f600cd48": {
          "model_module": "@jupyter-widgets/base",
          "model_name": "LayoutModel",
          "state": {
            "_view_name": "LayoutView",
            "grid_template_rows": null,
            "right": null,
            "justify_content": null,
            "_view_module": "@jupyter-widgets/base",
            "overflow": null,
            "_model_module_version": "1.2.0",
            "_view_count": null,
            "flex_flow": null,
            "width": null,
            "min_width": null,
            "border": null,
            "align_items": null,
            "bottom": null,
            "_model_module": "@jupyter-widgets/base",
            "top": null,
            "grid_column": null,
            "overflow_y": null,
            "overflow_x": null,
            "grid_auto_flow": null,
            "grid_area": null,
            "grid_template_columns": null,
            "flex": null,
            "_model_name": "LayoutModel",
            "justify_items": null,
            "grid_row": null,
            "max_height": null,
            "align_content": null,
            "visibility": null,
            "align_self": null,
            "height": null,
            "min_height": null,
            "padding": null,
            "grid_auto_rows": null,
            "grid_gap": null,
            "max_width": null,
            "order": null,
            "_view_module_version": "1.2.0",
            "grid_template_areas": null,
            "object_position": null,
            "object_fit": null,
            "grid_auto_columns": null,
            "margin": null,
            "display": null,
            "left": null
          }
        },
        "d6a867e040174d9299840702a61a6ef4": {
          "model_module": "@jupyter-widgets/controls",
          "model_name": "FloatProgressModel",
          "state": {
            "_view_name": "ProgressView",
            "style": "IPY_MODEL_4874f9be040440389448a85f97d83dc6",
            "_dom_classes": [],
            "description": "",
            "_model_name": "FloatProgressModel",
            "bar_style": "success",
            "max": 1,
            "_view_module": "@jupyter-widgets/controls",
            "_model_module_version": "1.5.0",
            "value": 1,
            "_view_count": null,
            "_view_module_version": "1.5.0",
            "orientation": "horizontal",
            "min": 0,
            "description_tooltip": null,
            "_model_module": "@jupyter-widgets/controls",
            "layout": "IPY_MODEL_fd5be0b1ffb14dc782573d63c53643da"
          }
        },
        "92c516e6775048119e2b54452db718f5": {
          "model_module": "@jupyter-widgets/controls",
          "model_name": "HTMLModel",
          "state": {
            "_view_name": "HTMLView",
            "style": "IPY_MODEL_80f229c59d714078af2c39c870841879",
            "_dom_classes": [],
            "description": "",
            "_model_name": "HTMLModel",
            "placeholder": "​",
            "_view_module": "@jupyter-widgets/controls",
            "_model_module_version": "1.5.0",
            "value": " 1654784/? [00:02&lt;00:00, 628756.52it/s]",
            "_view_count": null,
            "_view_module_version": "1.5.0",
            "description_tooltip": null,
            "_model_module": "@jupyter-widgets/controls",
            "layout": "IPY_MODEL_c16418129063425a9abaff7bff1688ee"
          }
        },
        "4874f9be040440389448a85f97d83dc6": {
          "model_module": "@jupyter-widgets/controls",
          "model_name": "ProgressStyleModel",
          "state": {
            "_view_name": "StyleView",
            "_model_name": "ProgressStyleModel",
            "description_width": "initial",
            "_view_module": "@jupyter-widgets/base",
            "_model_module_version": "1.5.0",
            "_view_count": null,
            "_view_module_version": "1.2.0",
            "bar_color": null,
            "_model_module": "@jupyter-widgets/controls"
          }
        },
        "fd5be0b1ffb14dc782573d63c53643da": {
          "model_module": "@jupyter-widgets/base",
          "model_name": "LayoutModel",
          "state": {
            "_view_name": "LayoutView",
            "grid_template_rows": null,
            "right": null,
            "justify_content": null,
            "_view_module": "@jupyter-widgets/base",
            "overflow": null,
            "_model_module_version": "1.2.0",
            "_view_count": null,
            "flex_flow": null,
            "width": null,
            "min_width": null,
            "border": null,
            "align_items": null,
            "bottom": null,
            "_model_module": "@jupyter-widgets/base",
            "top": null,
            "grid_column": null,
            "overflow_y": null,
            "overflow_x": null,
            "grid_auto_flow": null,
            "grid_area": null,
            "grid_template_columns": null,
            "flex": null,
            "_model_name": "LayoutModel",
            "justify_items": null,
            "grid_row": null,
            "max_height": null,
            "align_content": null,
            "visibility": null,
            "align_self": null,
            "height": null,
            "min_height": null,
            "padding": null,
            "grid_auto_rows": null,
            "grid_gap": null,
            "max_width": null,
            "order": null,
            "_view_module_version": "1.2.0",
            "grid_template_areas": null,
            "object_position": null,
            "object_fit": null,
            "grid_auto_columns": null,
            "margin": null,
            "display": null,
            "left": null
          }
        },
        "80f229c59d714078af2c39c870841879": {
          "model_module": "@jupyter-widgets/controls",
          "model_name": "DescriptionStyleModel",
          "state": {
            "_view_name": "StyleView",
            "_model_name": "DescriptionStyleModel",
            "description_width": "",
            "_view_module": "@jupyter-widgets/base",
            "_model_module_version": "1.5.0",
            "_view_count": null,
            "_view_module_version": "1.2.0",
            "_model_module": "@jupyter-widgets/controls"
          }
        },
        "c16418129063425a9abaff7bff1688ee": {
          "model_module": "@jupyter-widgets/base",
          "model_name": "LayoutModel",
          "state": {
            "_view_name": "LayoutView",
            "grid_template_rows": null,
            "right": null,
            "justify_content": null,
            "_view_module": "@jupyter-widgets/base",
            "overflow": null,
            "_model_module_version": "1.2.0",
            "_view_count": null,
            "flex_flow": null,
            "width": null,
            "min_width": null,
            "border": null,
            "align_items": null,
            "bottom": null,
            "_model_module": "@jupyter-widgets/base",
            "top": null,
            "grid_column": null,
            "overflow_y": null,
            "overflow_x": null,
            "grid_auto_flow": null,
            "grid_area": null,
            "grid_template_columns": null,
            "flex": null,
            "_model_name": "LayoutModel",
            "justify_items": null,
            "grid_row": null,
            "max_height": null,
            "align_content": null,
            "visibility": null,
            "align_self": null,
            "height": null,
            "min_height": null,
            "padding": null,
            "grid_auto_rows": null,
            "grid_gap": null,
            "max_width": null,
            "order": null,
            "_view_module_version": "1.2.0",
            "grid_template_areas": null,
            "object_position": null,
            "object_fit": null,
            "grid_auto_columns": null,
            "margin": null,
            "display": null,
            "left": null
          }
        },
        "405f12006c8d475ba29757eec2cf9df4": {
          "model_module": "@jupyter-widgets/controls",
          "model_name": "HBoxModel",
          "state": {
            "_view_name": "HBoxView",
            "_dom_classes": [],
            "_model_name": "HBoxModel",
            "_view_module": "@jupyter-widgets/controls",
            "_model_module_version": "1.5.0",
            "_view_count": null,
            "_view_module_version": "1.5.0",
            "box_style": "",
            "layout": "IPY_MODEL_286f83a791664a7980e023708854caf0",
            "_model_module": "@jupyter-widgets/controls",
            "children": [
              "IPY_MODEL_118f8426bbcc48c3920b343ab092ece7",
              "IPY_MODEL_1258550eb7b74154a0da6352d111a342"
            ]
          }
        },
        "286f83a791664a7980e023708854caf0": {
          "model_module": "@jupyter-widgets/base",
          "model_name": "LayoutModel",
          "state": {
            "_view_name": "LayoutView",
            "grid_template_rows": null,
            "right": null,
            "justify_content": null,
            "_view_module": "@jupyter-widgets/base",
            "overflow": null,
            "_model_module_version": "1.2.0",
            "_view_count": null,
            "flex_flow": null,
            "width": null,
            "min_width": null,
            "border": null,
            "align_items": null,
            "bottom": null,
            "_model_module": "@jupyter-widgets/base",
            "top": null,
            "grid_column": null,
            "overflow_y": null,
            "overflow_x": null,
            "grid_auto_flow": null,
            "grid_area": null,
            "grid_template_columns": null,
            "flex": null,
            "_model_name": "LayoutModel",
            "justify_items": null,
            "grid_row": null,
            "max_height": null,
            "align_content": null,
            "visibility": null,
            "align_self": null,
            "height": null,
            "min_height": null,
            "padding": null,
            "grid_auto_rows": null,
            "grid_gap": null,
            "max_width": null,
            "order": null,
            "_view_module_version": "1.2.0",
            "grid_template_areas": null,
            "object_position": null,
            "object_fit": null,
            "grid_auto_columns": null,
            "margin": null,
            "display": null,
            "left": null
          }
        },
        "118f8426bbcc48c3920b343ab092ece7": {
          "model_module": "@jupyter-widgets/controls",
          "model_name": "FloatProgressModel",
          "state": {
            "_view_name": "ProgressView",
            "style": "IPY_MODEL_33c51de859bb454ca5147d7c959d1222",
            "_dom_classes": [],
            "description": "  0%",
            "_model_name": "FloatProgressModel",
            "bar_style": "info",
            "max": 1,
            "_view_module": "@jupyter-widgets/controls",
            "_model_module_version": "1.5.0",
            "value": 0,
            "_view_count": null,
            "_view_module_version": "1.5.0",
            "orientation": "horizontal",
            "min": 0,
            "description_tooltip": null,
            "_model_module": "@jupyter-widgets/controls",
            "layout": "IPY_MODEL_168a56781fc74f23b00bd476fd9a1c0d"
          }
        },
        "1258550eb7b74154a0da6352d111a342": {
          "model_module": "@jupyter-widgets/controls",
          "model_name": "HTMLModel",
          "state": {
            "_view_name": "HTMLView",
            "style": "IPY_MODEL_1d3f6b6f88fe4aca8f0bf5f920cd5f86",
            "_dom_classes": [],
            "description": "",
            "_model_name": "HTMLModel",
            "placeholder": "​",
            "_view_module": "@jupyter-widgets/controls",
            "_model_module_version": "1.5.0",
            "value": " 0/4542 [00:06&lt;?, ?it/s]",
            "_view_count": null,
            "_view_module_version": "1.5.0",
            "description_tooltip": null,
            "_model_module": "@jupyter-widgets/controls",
            "layout": "IPY_MODEL_2cf1aee1e01d49e09e42a84879c5301d"
          }
        },
        "33c51de859bb454ca5147d7c959d1222": {
          "model_module": "@jupyter-widgets/controls",
          "model_name": "ProgressStyleModel",
          "state": {
            "_view_name": "StyleView",
            "_model_name": "ProgressStyleModel",
            "description_width": "initial",
            "_view_module": "@jupyter-widgets/base",
            "_model_module_version": "1.5.0",
            "_view_count": null,
            "_view_module_version": "1.2.0",
            "bar_color": null,
            "_model_module": "@jupyter-widgets/controls"
          }
        },
        "168a56781fc74f23b00bd476fd9a1c0d": {
          "model_module": "@jupyter-widgets/base",
          "model_name": "LayoutModel",
          "state": {
            "_view_name": "LayoutView",
            "grid_template_rows": null,
            "right": null,
            "justify_content": null,
            "_view_module": "@jupyter-widgets/base",
            "overflow": null,
            "_model_module_version": "1.2.0",
            "_view_count": null,
            "flex_flow": null,
            "width": null,
            "min_width": null,
            "border": null,
            "align_items": null,
            "bottom": null,
            "_model_module": "@jupyter-widgets/base",
            "top": null,
            "grid_column": null,
            "overflow_y": null,
            "overflow_x": null,
            "grid_auto_flow": null,
            "grid_area": null,
            "grid_template_columns": null,
            "flex": null,
            "_model_name": "LayoutModel",
            "justify_items": null,
            "grid_row": null,
            "max_height": null,
            "align_content": null,
            "visibility": null,
            "align_self": null,
            "height": null,
            "min_height": null,
            "padding": null,
            "grid_auto_rows": null,
            "grid_gap": null,
            "max_width": null,
            "order": null,
            "_view_module_version": "1.2.0",
            "grid_template_areas": null,
            "object_position": null,
            "object_fit": null,
            "grid_auto_columns": null,
            "margin": null,
            "display": null,
            "left": null
          }
        },
        "1d3f6b6f88fe4aca8f0bf5f920cd5f86": {
          "model_module": "@jupyter-widgets/controls",
          "model_name": "DescriptionStyleModel",
          "state": {
            "_view_name": "StyleView",
            "_model_name": "DescriptionStyleModel",
            "description_width": "",
            "_view_module": "@jupyter-widgets/base",
            "_model_module_version": "1.5.0",
            "_view_count": null,
            "_view_module_version": "1.2.0",
            "_model_module": "@jupyter-widgets/controls"
          }
        },
        "2cf1aee1e01d49e09e42a84879c5301d": {
          "model_module": "@jupyter-widgets/base",
          "model_name": "LayoutModel",
          "state": {
            "_view_name": "LayoutView",
            "grid_template_rows": null,
            "right": null,
            "justify_content": null,
            "_view_module": "@jupyter-widgets/base",
            "overflow": null,
            "_model_module_version": "1.2.0",
            "_view_count": null,
            "flex_flow": null,
            "width": null,
            "min_width": null,
            "border": null,
            "align_items": null,
            "bottom": null,
            "_model_module": "@jupyter-widgets/base",
            "top": null,
            "grid_column": null,
            "overflow_y": null,
            "overflow_x": null,
            "grid_auto_flow": null,
            "grid_area": null,
            "grid_template_columns": null,
            "flex": null,
            "_model_name": "LayoutModel",
            "justify_items": null,
            "grid_row": null,
            "max_height": null,
            "align_content": null,
            "visibility": null,
            "align_self": null,
            "height": null,
            "min_height": null,
            "padding": null,
            "grid_auto_rows": null,
            "grid_gap": null,
            "max_width": null,
            "order": null,
            "_view_module_version": "1.2.0",
            "grid_template_areas": null,
            "object_position": null,
            "object_fit": null,
            "grid_auto_columns": null,
            "margin": null,
            "display": null,
            "left": null
          }
        }
      }
    }
  },
  "cells": [
    {
      "cell_type": "markdown",
      "metadata": {
        "id": "view-in-github",
        "colab_type": "text"
      },
      "source": [
        "<a href=\"https://colab.research.google.com/github/Mainakdeb/digit-GAN/blob/main/digit-dcgan.ipynb\" target=\"_parent\"><img src=\"https://colab.research.google.com/assets/colab-badge.svg\" alt=\"Open In Colab\"/></a>"
      ]
    },
    {
      "cell_type": "markdown",
      "metadata": {
        "id": "QrOyBv85wJuj"
      },
      "source": [
        "Made using guidelines from the DCGAN paper - https://arxiv.org/abs/1511.06434"
      ]
    },
    {
      "cell_type": "markdown",
      "metadata": {
        "id": "Yr7XDRravmqe"
      },
      "source": [
        "### Define the Discriminator net :\n"
      ]
    },
    {
      "cell_type": "code",
      "metadata": {
        "id": "u3DrlDKFZaFo"
      },
      "source": [
        "import torch\n",
        "import torch.nn as nn\n",
        "\n",
        "class Discriminator(nn.Module):\n",
        "  def __init__(self, channels_img, features_d):\n",
        "    super(Discriminator, self).__init__()\n",
        "    self.disc = nn.Sequential(\n",
        "        #N x C x H x W\n",
        "        nn.Conv2d(\n",
        "            channels_img, features_d, kernel_size=4, stride=2, padding=1\n",
        "        ),\n",
        "        nn.LeakyReLU(0.2), #no batch_norm here\n",
        "        self._block(features_d, features_d*2, 4, 2, 1),\n",
        "        self._block(features_d*2, features_d*4, 4, 2, 1),\n",
        "        self._block(features_d*4, features_d*8, 4, 2, 1),\n",
        "        nn.Conv2d(features_d*8, 1, kernel_size=4, stride=2, padding=0),\n",
        "        nn.Sigmoid(),\n",
        "    )\n",
        "\n",
        "  def _block(self, in_channels, out_channels, kernel_size, stride, padding):\n",
        "    return nn.Sequential(\n",
        "        nn.Conv2d(\n",
        "            in_channels,\n",
        "            out_channels,\n",
        "            kernel_size,\n",
        "            stride,\n",
        "            padding,\n",
        "            bias=False\n",
        "        ),\n",
        "        nn.BatchNorm2d(out_channels),\n",
        "        nn.LeakyReLU(0.2), #params from paper\n",
        "    )\n",
        "\n",
        "  def forward(self,x):\n",
        "    return self.disc(x)\n",
        "\n"
      ],
      "execution_count": 1,
      "outputs": []
    },
    {
      "cell_type": "markdown",
      "metadata": {
        "id": "j0scLP8svuGS"
      },
      "source": [
        "### Define the Generator net :"
      ]
    },
    {
      "cell_type": "code",
      "metadata": {
        "id": "N8l-nZuqbaQZ"
      },
      "source": [
        "class Generator(nn.Module):\n",
        "  def __init__(self, channels_noise, channels_img, features_g):\n",
        "    super(Generator, self).__init__()\n",
        "    self.net = nn.Sequential(\n",
        "        self._block(channels_noise, features_g * 16, 4, 1, 0),  \n",
        "        self._block(features_g * 16, features_g * 8, 4, 2, 1),  \n",
        "        self._block(features_g * 8, features_g * 4, 4, 2, 1),  # img: 16x16\n",
        "        self._block(features_g * 4, features_g * 2, 4, 2, 1),  # img: 32x32\n",
        "        nn.ConvTranspose2d(\n",
        "            features_g * 2, channels_img, kernel_size=4, stride=2, padding=1\n",
        "        ),\n",
        "        # Output: N x channels_img x 64 x 64\n",
        "        nn.Tanh(),\n",
        "    )\n",
        "\n",
        "  def _block(self, in_channels, out_channels, kernel_size, stride, padding):\n",
        "    return nn.Sequential(\n",
        "        nn.ConvTranspose2d(\n",
        "            in_channels,\n",
        "            out_channels,\n",
        "            kernel_size,\n",
        "            stride,\n",
        "            padding,\n",
        "            bias=False,\n",
        "        ),\n",
        "        #nn.BatchNorm2d(out_channels),\n",
        "        nn.ReLU(),\n",
        "    )\n",
        "\n",
        "  def forward(self, x):\n",
        "    return self.net(x)"
      ],
      "execution_count": 2,
      "outputs": []
    },
    {
      "cell_type": "markdown",
      "metadata": {
        "id": "q2W5MiQIv2rk"
      },
      "source": [
        "### Define a function to initialise model weights. \n"
      ]
    },
    {
      "cell_type": "code",
      "metadata": {
        "id": "q6752CJde2v6"
      },
      "source": [
        "def initialise_weights(model):\n",
        "  #like the paper, mean=0, sd=0.02\n",
        "  for m in model.modules():\n",
        "    if isinstance(m, (nn.Conv2d, nn.ConvTranspose2d, nn.BatchNorm2d)):\n",
        "      nn.init.normal_(m.weight.data, 0.0, 0.02)"
      ],
      "execution_count": 3,
      "outputs": []
    },
    {
      "cell_type": "markdown",
      "metadata": {
        "id": "YSJ3t7SVwthl"
      },
      "source": [
        "### Make sure everything works until now :"
      ]
    },
    {
      "cell_type": "code",
      "metadata": {
        "id": "Td-KdWNSfq3K",
        "colab": {
          "base_uri": "https://localhost:8080/"
        },
        "outputId": "fb9370b9-f0d0-44b0-815e-c86eeb9d1097"
      },
      "source": [
        "def test():\n",
        "  N, in_channels, H, W = 8, 3, 64, 64\n",
        "  z_dim=100\n",
        "  x = torch.randn((N, in_channels, H, W))\n",
        "  disc = Discriminator(in_channels, 8)\n",
        "  initialise_weights(disc)\n",
        "  assert disc(x).shape == (N,1,1,1)\n",
        "  gen = Generator(z_dim, in_channels, 8)\n",
        "  initialise_weights(gen)\n",
        "  z = torch.randn(N, z_dim, 1, 1)\n",
        "  assert gen(z).shape == (N, in_channels, H, W)\n",
        "  print(\"********works*******\")\n",
        "test() "
      ],
      "execution_count": 4,
      "outputs": [
        {
          "output_type": "stream",
          "text": [
            "********works*******\n"
          ],
          "name": "stdout"
        }
      ]
    },
    {
      "cell_type": "markdown",
      "metadata": {
        "id": "ZksLSwQsxKKQ"
      },
      "source": [
        "### Define training hyprparameters :"
      ]
    },
    {
      "cell_type": "code",
      "metadata": {
        "id": "uWEWOoQbgjuW"
      },
      "source": [
        "import torch.optim as optim\n",
        "import torchvision\n",
        "import torchvision.datasets as datasets\n",
        "import torchvision.transforms as transforms\n",
        "from torch.utils.data import DataLoader\n",
        "from torch.utils.tensorboard import SummaryWriter\n",
        "\n",
        "device = torch.device(\"cuda\" if torch.cuda.is_available() else \"cpu\")\n",
        "LEARNING_RATE=2e-4\n",
        "BATCH_SIZE = 128\n",
        "IMAGE_SIZE = 64\n",
        "CHANNELS_IMG=1 \n",
        "NOISE_DIM = 100 \n",
        "Z_DIM=100 \n",
        "NUM_EPOCHS=5\n",
        "FEATURES_DISC=64\n",
        "FEATURES_GEN=64"
      ],
      "execution_count": 5,
      "outputs": []
    },
    {
      "cell_type": "markdown",
      "metadata": {
        "id": "T0yVeiW9x3O9"
      },
      "source": [
        "### All training images are resized to 64x64"
      ]
    },
    {
      "cell_type": "code",
      "metadata": {
        "id": "6DjMWRqNhP2v"
      },
      "source": [
        "transforms = transforms.Compose(\n",
        "    [\n",
        "     transforms.Resize(IMAGE_SIZE),\n",
        "     transforms.ToTensor(),\n",
        "     transforms.Normalize([0.5 for _ in range(CHANNELS_IMG)], \n",
        "                         [0.5 for _ in range(CHANNELS_IMG)])\n",
        "    ]\n",
        ")"
      ],
      "execution_count": 6,
      "outputs": []
    },
    {
      "cell_type": "markdown",
      "metadata": {
        "id": "5nVc_5WtyBXX"
      },
      "source": [
        "### Define the dataset and the dataloader :"
      ]
    },
    {
      "cell_type": "code",
      "metadata": {
        "colab": {
          "base_uri": "https://localhost:8080/",
          "height": 397,
          "referenced_widgets": [
            "ab4aa3ad2d154ec5a1947fc30b47fe4f",
            "455076a627fa4e4388511ada3529b0e9",
            "a3f71177dfc642bca55a56fffca44e9f",
            "ff8a630e34aa4e3db7734f9d3a235c01",
            "33aad5ae85284531870c84b7d711dc86",
            "4633e5051bf341788755919ed372c343",
            "c5f98e2f36e947028bab6d50a750278a",
            "1a30f16fd02340f694770f11d78c36e6",
            "a40c317401dd41f3a77c03912a4d37b6",
            "262d759754b0425ca801f0dc839376a1",
            "0abfb1bd31184301a087eff3b2ba38df",
            "3eed2b69f5b74c028bfb12e6c020d6fc",
            "db911fe4a6b84d019ae9d1655f145706",
            "d251d116a1d4483492754925606ae57d",
            "e853372a30d04b4ea4d6673e82091fc0",
            "9168d5a5aa5f45c89dd9cc89946642f0",
            "dea725e2845d4fb2948608dabb32410d",
            "6e903feca6634449a6799d60f600cd48",
            "d6a867e040174d9299840702a61a6ef4",
            "92c516e6775048119e2b54452db718f5",
            "4874f9be040440389448a85f97d83dc6",
            "fd5be0b1ffb14dc782573d63c53643da",
            "80f229c59d714078af2c39c870841879",
            "c16418129063425a9abaff7bff1688ee",
            "405f12006c8d475ba29757eec2cf9df4",
            "286f83a791664a7980e023708854caf0",
            "118f8426bbcc48c3920b343ab092ece7",
            "1258550eb7b74154a0da6352d111a342",
            "33c51de859bb454ca5147d7c959d1222",
            "168a56781fc74f23b00bd476fd9a1c0d",
            "1d3f6b6f88fe4aca8f0bf5f920cd5f86",
            "2cf1aee1e01d49e09e42a84879c5301d"
          ]
        },
        "id": "YApXW1xCx_V5",
        "outputId": "d8d1b5e4-b9fe-4e36-d1c2-6701780f5885"
      },
      "source": [
        "dataset = datasets.MNIST(root=\"/dataset/\", train=True, transform=transforms, download=True)\n",
        "\n",
        "loader = DataLoader(dataset, batch_size = BATCH_SIZE, shuffle=True)"
      ],
      "execution_count": 7,
      "outputs": [
        {
          "output_type": "stream",
          "text": [
            "Downloading http://yann.lecun.com/exdb/mnist/train-images-idx3-ubyte.gz to /dataset/MNIST/raw/train-images-idx3-ubyte.gz\n"
          ],
          "name": "stdout"
        },
        {
          "output_type": "display_data",
          "data": {
            "application/vnd.jupyter.widget-view+json": {
              "model_id": "ab4aa3ad2d154ec5a1947fc30b47fe4f",
              "version_minor": 0,
              "version_major": 2
            },
            "text/plain": [
              "HBox(children=(FloatProgress(value=1.0, bar_style='info', max=1.0), HTML(value='')))"
            ]
          },
          "metadata": {
            "tags": []
          }
        },
        {
          "output_type": "stream",
          "text": [
            "Extracting /dataset/MNIST/raw/train-images-idx3-ubyte.gz to /dataset/MNIST/raw\n",
            "Downloading http://yann.lecun.com/exdb/mnist/train-labels-idx1-ubyte.gz to /dataset/MNIST/raw/train-labels-idx1-ubyte.gz\n"
          ],
          "name": "stdout"
        },
        {
          "output_type": "display_data",
          "data": {
            "application/vnd.jupyter.widget-view+json": {
              "model_id": "a40c317401dd41f3a77c03912a4d37b6",
              "version_minor": 0,
              "version_major": 2
            },
            "text/plain": [
              "HBox(children=(FloatProgress(value=1.0, bar_style='info', max=1.0), HTML(value='')))"
            ]
          },
          "metadata": {
            "tags": []
          }
        },
        {
          "output_type": "stream",
          "text": [
            "Extracting /dataset/MNIST/raw/train-labels-idx1-ubyte.gz to /dataset/MNIST/raw\n",
            "Downloading http://yann.lecun.com/exdb/mnist/t10k-images-idx3-ubyte.gz to /dataset/MNIST/raw/t10k-images-idx3-ubyte.gz\n"
          ],
          "name": "stdout"
        },
        {
          "output_type": "display_data",
          "data": {
            "application/vnd.jupyter.widget-view+json": {
              "model_id": "dea725e2845d4fb2948608dabb32410d",
              "version_minor": 0,
              "version_major": 2
            },
            "text/plain": [
              "HBox(children=(FloatProgress(value=1.0, bar_style='info', max=1.0), HTML(value='')))"
            ]
          },
          "metadata": {
            "tags": []
          }
        },
        {
          "output_type": "stream",
          "text": [
            "Extracting /dataset/MNIST/raw/t10k-images-idx3-ubyte.gz to /dataset/MNIST/raw\n",
            "Downloading http://yann.lecun.com/exdb/mnist/t10k-labels-idx1-ubyte.gz to /dataset/MNIST/raw/t10k-labels-idx1-ubyte.gz\n",
            "\n",
            "\n"
          ],
          "name": "stdout"
        },
        {
          "output_type": "display_data",
          "data": {
            "application/vnd.jupyter.widget-view+json": {
              "model_id": "405f12006c8d475ba29757eec2cf9df4",
              "version_minor": 0,
              "version_major": 2
            },
            "text/plain": [
              "HBox(children=(FloatProgress(value=1.0, bar_style='info', max=1.0), HTML(value='')))"
            ]
          },
          "metadata": {
            "tags": []
          }
        },
        {
          "output_type": "stream",
          "text": [
            "Extracting /dataset/MNIST/raw/t10k-labels-idx1-ubyte.gz to /dataset/MNIST/raw\n",
            "Processing...\n",
            "Done!\n"
          ],
          "name": "stdout"
        },
        {
          "output_type": "stream",
          "text": [
            "/usr/local/lib/python3.6/dist-packages/torchvision/datasets/mnist.py:480: UserWarning: The given NumPy array is not writeable, and PyTorch does not support non-writeable tensors. This means you can write to the underlying (supposedly non-writeable) NumPy array using the tensor. You may want to copy the array to protect its data or make it writeable before converting it to a tensor. This type of warning will be suppressed for the rest of this program. (Triggered internally at  /pytorch/torch/csrc/utils/tensor_numpy.cpp:141.)\n",
            "  return torch.from_numpy(parsed.astype(m[2], copy=False)).view(*s)\n"
          ],
          "name": "stderr"
        }
      ]
    },
    {
      "cell_type": "markdown",
      "metadata": {
        "id": "G9E2etKeyG6U"
      },
      "source": [
        "### Misc :"
      ]
    },
    {
      "cell_type": "code",
      "metadata": {
        "id": "_W1taaUNkRSk"
      },
      "source": [
        "gen = Generator(NOISE_DIM, CHANNELS_IMG, FEATURES_GEN).to(device)\n",
        "disc = Discriminator(CHANNELS_IMG, FEATURES_DISC).to(device)\n",
        "\n",
        "initialise_weights(gen)\n",
        "initialise_weights(disc)\n",
        "\n",
        "opt_gen = optim.Adam(gen.parameters(), lr=LEARNING_RATE, betas=(0.5, 0.999))\n",
        "opt_disc = optim.Adam(disc.parameters(), lr=LEARNING_RATE, betas=(0.5, 0.999))\n",
        "criterion = nn.BCELoss()\n",
        "\n",
        "fixed_noise = torch.randn(32, Z_DIM, 1, 1).to(device)\n",
        "step=0\n",
        "\n",
        "gen.train()\n",
        "disc.train()\n",
        "\n",
        "#for tensorboard\n",
        "writer_real = SummaryWriter(f\"logs/real\")\n",
        "writer_fake = SummaryWriter(f\"logs/fake\")"
      ],
      "execution_count": 8,
      "outputs": []
    },
    {
      "cell_type": "markdown",
      "metadata": {
        "id": "vti60tOjydEW"
      },
      "source": [
        "### Initiate Tensorboard :"
      ]
    },
    {
      "cell_type": "code",
      "metadata": {
        "id": "9-PEOrqnlOWl"
      },
      "source": [
        "%load_ext tensorboard\n",
        "%tensorboard --logdir logs"
      ],
      "execution_count": null,
      "outputs": []
    },
    {
      "cell_type": "markdown",
      "metadata": {
        "id": "Eifv0mF5ylh8"
      },
      "source": [
        "### Begin Training :"
      ]
    },
    {
      "cell_type": "code",
      "metadata": {
        "id": "X4cggBbZlr5S",
        "colab": {
          "base_uri": "https://localhost:8080/"
        },
        "outputId": "62f7375d-08b2-4cd3-aa05-49d4aca156ef"
      },
      "source": [
        "for epoch in range(NUM_EPOCHS):\n",
        "  for batch_idx, (real, _) in enumerate(loader):\n",
        "    real = real.to(device)\n",
        "    noise = torch.randn(BATCH_SIZE, Z_DIM, 1, 1).to(device)\n",
        "    fake = gen(noise)\n",
        "\n",
        "    #train discriminator\n",
        "    disc_real = disc(real).reshape(-1)\n",
        "    loss_disc_real = criterion(disc_real, torch.ones_like(disc_real))\n",
        "    disc_fake = disc(fake).reshape(-1)\n",
        "    loss_disc_fake =criterion(disc_fake, torch.zeros_like(disc_fake))\n",
        "    loss_disc = (loss_disc_real+loss_disc_fake)/2\n",
        "    disc.zero_grad()\n",
        "    loss_disc.backward(retain_graph=True)\n",
        "    opt_disc.step()\n",
        "\n",
        "    #train generator\n",
        "    output = disc(fake).reshape(-1) \n",
        "    loss_gen = criterion(output, torch.ones_like(output))\n",
        "    gen.zero_grad()\n",
        "    loss_gen.backward()\n",
        "    opt_gen.step()\n",
        "\n",
        "    # Print losses occasionally and print to tensorboard\n",
        "    if batch_idx % 100 == 0:\n",
        "        print(\n",
        "            f\"Epoch [{epoch}/{NUM_EPOCHS}] Batch {batch_idx}/{len(loader)} \\\n",
        "              Loss D: {loss_disc:.4f}, loss G: {loss_gen:.4f}\"\n",
        "        )\n",
        "\n",
        "        with torch.no_grad():\n",
        "          fake = gen(fixed_noise)\n",
        "          # take out (up to) 32 examples\n",
        "          img_grid_real = torchvision.utils.make_grid(\n",
        "              real[:32], normalize=True\n",
        "          )\n",
        "          img_grid_fake = torchvision.utils.make_grid(\n",
        "              fake[:32], normalize=True\n",
        "          )\n",
        "\n",
        "          writer_real.add_image(\"Real\", img_grid_real, global_step=step)\n",
        "          writer_fake.add_image(\"Fake\", img_grid_fake, global_step=step)\n",
        "\n",
        "        step += 1"
      ],
      "execution_count": null,
      "outputs": [
        {
          "output_type": "stream",
          "text": [
            "Epoch [0/5] Batch 0/469               Loss D: 0.5502, loss G: 0.2296\n",
            "Epoch [0/5] Batch 100/469               Loss D: 0.7400, loss G: 0.6152\n",
            "Epoch [0/5] Batch 200/469               Loss D: 0.3406, loss G: 3.2650\n",
            "Epoch [0/5] Batch 300/469               Loss D: 0.1070, loss G: 3.3198\n",
            "Epoch [0/5] Batch 400/469               Loss D: 0.1275, loss G: 2.5441\n",
            "Epoch [1/5] Batch 0/469               Loss D: 0.0697, loss G: 2.7750\n",
            "Epoch [1/5] Batch 100/469               Loss D: 0.0840, loss G: 3.4144\n",
            "Epoch [1/5] Batch 200/469               Loss D: 0.0826, loss G: 2.9037\n",
            "Epoch [1/5] Batch 300/469               Loss D: 0.0897, loss G: 3.6982\n",
            "Epoch [1/5] Batch 400/469               Loss D: 0.0892, loss G: 3.4266\n",
            "Epoch [2/5] Batch 0/469               Loss D: 0.0533, loss G: 3.9370\n",
            "Epoch [2/5] Batch 100/469               Loss D: 0.0261, loss G: 4.0631\n",
            "Epoch [2/5] Batch 200/469               Loss D: 0.0401, loss G: 4.3643\n",
            "Epoch [2/5] Batch 300/469               Loss D: 0.0360, loss G: 3.9056\n",
            "Epoch [2/5] Batch 400/469               Loss D: 0.6222, loss G: 0.6544\n",
            "Epoch [3/5] Batch 0/469               Loss D: 0.1601, loss G: 1.5625\n",
            "Epoch [3/5] Batch 100/469               Loss D: 0.0208, loss G: 3.9721\n",
            "Epoch [3/5] Batch 200/469               Loss D: 0.0182, loss G: 4.7232\n",
            "Epoch [3/5] Batch 300/469               Loss D: 0.3725, loss G: 1.5478\n",
            "Epoch [3/5] Batch 400/469               Loss D: 0.0311, loss G: 3.4196\n",
            "Epoch [4/5] Batch 0/469               Loss D: 0.0474, loss G: 3.5132\n",
            "Epoch [4/5] Batch 100/469               Loss D: 0.0133, loss G: 4.8126\n",
            "Epoch [4/5] Batch 200/469               Loss D: 0.0760, loss G: 3.9502\n",
            "Epoch [4/5] Batch 300/469               Loss D: 0.0200, loss G: 4.1580\n",
            "Epoch [4/5] Batch 400/469               Loss D: 0.0306, loss G: 5.1624\n"
          ],
          "name": "stdout"
        }
      ]
    },
    {
      "cell_type": "markdown",
      "metadata": {
        "id": "i51gmoG3y-np"
      },
      "source": [
        "### Save models :"
      ]
    },
    {
      "cell_type": "code",
      "metadata": {
        "id": "IzsrMRalmE6H"
      },
      "source": [
        "torch.save(gen.state_dict(), \"generator_net.pt\")\n",
        "torch.save(disc.state_dict(), \"discriminator_net.pt\")"
      ],
      "execution_count": 11,
      "outputs": []
    },
    {
      "cell_type": "markdown",
      "metadata": {
        "id": "jWAahLpxzFm2"
      },
      "source": [
        "### Load existing model :"
      ]
    },
    {
      "cell_type": "code",
      "metadata": {
        "colab": {
          "base_uri": "https://localhost:8080/"
        },
        "id": "UHrqrueWzINw",
        "outputId": "0567800b-ea7f-4f8f-d5c8-29ba465483e9"
      },
      "source": [
        "gen.load_state_dict(torch.load(\"generator_net.pt\"))\n",
        "disc.load_state_dict(torch.load(\"discriminator_net.pt\"))"
      ],
      "execution_count": 12,
      "outputs": [
        {
          "output_type": "execute_result",
          "data": {
            "text/plain": [
              "<All keys matched successfully>"
            ]
          },
          "metadata": {
            "tags": []
          },
          "execution_count": 12
        }
      ]
    },
    {
      "cell_type": "code",
      "metadata": {
        "id": "XdRN1O1pz0TU"
      },
      "source": [
        ""
      ],
      "execution_count": null,
      "outputs": []
    }
  ]
}